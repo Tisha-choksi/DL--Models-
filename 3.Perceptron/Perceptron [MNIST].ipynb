{
 "cells": [
  {
   "cell_type": "markdown",
   "metadata": {},
   "source": [
    "<h2 align=\"center\">Perceptron [MNIST]<br><br>"
   ]
  },
  {
   "cell_type": "code",
   "execution_count": 1,
   "metadata": {},
   "outputs": [],
   "source": [
    "import sys,os\n",
    "import matplotlib.pyplot as plt\n",
    "from sklearn.model_selection import train_test_split, GridSearchCV\n",
    "from tqdm import tqdm\n",
    "import pandas as pd\n",
    "import numpy as np"
   ]
  },
  {
   "cell_type": "markdown",
   "metadata": {},
   "source": [
    "<b>Fetching Training Data and Labels</b>"
   ]
  },
  {
   "cell_type": "code",
   "execution_count": 2,
   "metadata": {},
   "outputs": [],
   "source": [
    "x_train = np.loadtxt(fname = 'mnist_data.txt')\n",
    "\n",
    "x_train = np.append(x_train, np.ones([len(x_train),1]),1) # Adding one in the last column as a bias term\n",
    "\n",
    "y_train = np.loadtxt(fname = 'mnist_labels.txt')"
   ]
  },
  {
   "cell_type": "markdown",
   "metadata": {},
   "source": [
    "<b>Splitting Data into Training set and Testing set(50-50%)<br></b>"
   ]
  },
  {
   "cell_type": "code",
   "execution_count": 3,
   "metadata": {},
   "outputs": [],
   "source": [
    "X_T, X_Ts, y_T, y_Ts = train_test_split(x_train, y_train, test_size=0.5, random_state=42)"
   ]
  },
  {
   "cell_type": "markdown",
   "metadata": {},
   "source": [
    "<b>Creating w0 array for weight vectors with size of 10 rows * 785 columns<br>\n",
    "And another array wx to store the dot product of the feature vector and weight vector with size 10<br></b>"
   ]
  },
  {
   "cell_type": "code",
   "execution_count": 4,
   "metadata": {},
   "outputs": [],
   "source": [
    "w0 = np.zeros((10,785))\n",
    "wx = np.zeros((10,1))"
   ]
  },
  {
   "cell_type": "markdown",
   "metadata": {},
   "source": [
    "<b>Perceptron Training Phase</b>"
   ]
  },
  {
   "cell_type": "code",
   "execution_count": 5,
   "metadata": {},
   "outputs": [],
   "source": [
    "def train():\n",
    "    global train_accuracy\n",
    "    train_accuracy = 0\n",
    "    for i in range(len(X_T)):\n",
    "        for j in range(len(w0)):\n",
    "            wx[j] = np.dot(X_T[i],w0[j])\n",
    "        y_pred = np.argmax(wx)\n",
    "\n",
    "        if y_pred == y_T[i]:\n",
    "            train_accuracy += 1\n",
    "        else:\n",
    "            y_actual = int(y_T[i]) \n",
    "            w0[y_pred] = w0[y_pred] - X_T[i]\n",
    "            w0[y_actual] = w0[y_actual] + X_T[i]"
   ]
  },
  {
   "cell_type": "markdown",
   "metadata": {},
   "source": [
    "<b>Perceptron Testing Phase</b>"
   ]
  },
  {
   "cell_type": "code",
   "execution_count": 6,
   "metadata": {},
   "outputs": [],
   "source": [
    "def test():\n",
    "    global test_accuracy\n",
    "    test_accuracy = 0\n",
    "    for i in range(len(X_Ts)):\n",
    "        for j in range(len(w0)):\n",
    "            wx[j] = np.dot(X_Ts[i],w0[j])\n",
    "        y_pred1 = np.argmax(wx)\n",
    "\n",
    "        if y_pred1 == y_Ts[i]:\n",
    "            test_accuracy += 1"
   ]
  },
  {
   "cell_type": "code",
   "execution_count": 7,
   "metadata": {},
   "outputs": [],
   "source": [
    "def get_accuracy():\n",
    "    print(\"Training Accuracy:\",train_accuracy/(len(X_T)))\n",
    "    print(\"Testing Accuracy:\",test_accuracy/(len(X_Ts)))"
   ]
  },
  {
   "cell_type": "code",
   "execution_count": 8,
   "metadata": {},
   "outputs": [
    {
     "name": "stdout",
     "output_type": "stream",
     "text": [
      "Training Accuracy: 0.7778\n",
      "Testing Accuracy: 0.8452\n"
     ]
    }
   ],
   "source": [
    "train()\n",
    "test()\n",
    "get_accuracy() #First Run"
   ]
  },
  {
   "cell_type": "markdown",
   "metadata": {},
   "source": [
    "<b>Convergence And Times data is trained:<br>\n",
    "For Training 2,4,8,16,32,64.126,256 times :<br></b>"
   ]
  },
  {
   "cell_type": "code",
   "execution_count": 9,
   "metadata": {},
   "outputs": [
    {
     "name": "stdout",
     "output_type": "stream",
     "text": [
      "Training Accuracy: 0.8562\n",
      "Testing Accuracy: 0.8668\n"
     ]
    }
   ],
   "source": [
    "for times in range(0,1):\n",
    "    train()\n",
    "test()\n",
    "get_accuracy() #2 iterations"
   ]
  },
  {
   "cell_type": "code",
   "execution_count": 10,
   "metadata": {},
   "outputs": [
    {
     "name": "stdout",
     "output_type": "stream",
     "text": [
      "Training Accuracy: 0.8784\n",
      "Testing Accuracy: 0.872\n"
     ]
    }
   ],
   "source": [
    "for times in range(0,2):\n",
    "    train()\n",
    "test()\n",
    "get_accuracy() #4 interations"
   ]
  },
  {
   "cell_type": "code",
   "execution_count": 11,
   "metadata": {},
   "outputs": [
    {
     "name": "stdout",
     "output_type": "stream",
     "text": [
      "Training Accuracy: 0.9054\n",
      "Testing Accuracy: 0.8858\n"
     ]
    }
   ],
   "source": [
    "for times in range(0,4):\n",
    "    train()\n",
    "test()\n",
    "get_accuracy() #8 interations"
   ]
  },
  {
   "cell_type": "code",
   "execution_count": 12,
   "metadata": {},
   "outputs": [
    {
     "name": "stdout",
     "output_type": "stream",
     "text": [
      "Training Accuracy: 0.9314\n",
      "Testing Accuracy: 0.8512\n"
     ]
    }
   ],
   "source": [
    "for times in range(0,8):\n",
    "    train()\n",
    "test()\n",
    "get_accuracy() #16 interations"
   ]
  },
  {
   "cell_type": "code",
   "execution_count": 13,
   "metadata": {},
   "outputs": [
    {
     "name": "stdout",
     "output_type": "stream",
     "text": [
      "Training Accuracy: 0.9628\n",
      "Testing Accuracy: 0.869\n"
     ]
    }
   ],
   "source": [
    "for times in range(0,16):\n",
    "    train()\n",
    "test()\n",
    "get_accuracy() #32 interations"
   ]
  },
  {
   "cell_type": "code",
   "execution_count": 14,
   "metadata": {},
   "outputs": [
    {
     "name": "stdout",
     "output_type": "stream",
     "text": [
      "Training Accuracy: 0.98\n",
      "Testing Accuracy: 0.877\n"
     ]
    }
   ],
   "source": [
    "for times in range(0,32):\n",
    "    train()\n",
    "test()\n",
    "get_accuracy() #64 interations"
   ]
  },
  {
   "cell_type": "code",
   "execution_count": 15,
   "metadata": {},
   "outputs": [
    {
     "name": "stdout",
     "output_type": "stream",
     "text": [
      "Training Accuracy: 0.9944\n",
      "Testing Accuracy: 0.8758\n"
     ]
    }
   ],
   "source": [
    "for times in range(0,64):\n",
    "    train()\n",
    "test()\n",
    "get_accuracy() #128 interations"
   ]
  },
  {
   "cell_type": "code",
   "execution_count": 17,
   "metadata": {},
   "outputs": [
    {
     "name": "stdout",
     "output_type": "stream",
     "text": [
      "Training Accuracy: 1.0\n",
      "Testing Accuracy: 0.8808\n"
     ]
    }
   ],
   "source": [
    "for times in range(0,128):\n",
    "    train()\n",
    "test()\n",
    "get_accuracy() #256 interations"
   ]
  }
 ],
 "metadata": {
  "kernelspec": {
   "display_name": "Python 3",
   "language": "python",
   "name": "python3"
  },
  "language_info": {
   "codemirror_mode": {
    "name": "ipython",
    "version": 3
   },
   "file_extension": ".py",
   "mimetype": "text/x-python",
   "name": "python",
   "nbconvert_exporter": "python",
   "pygments_lexer": "ipython3",
   "version": "3.7.4"
  }
 },
 "nbformat": 4,
 "nbformat_minor": 2
}
